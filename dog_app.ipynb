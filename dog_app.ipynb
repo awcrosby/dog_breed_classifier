{
 "cells": [
  {
   "cell_type": "markdown",
   "metadata": {},
   "source": [
    "# Artificial Intelligence Nanodegree\n",
    "\n",
    "## Convolutional Neural Networks\n",
    "\n",
    "## Project: Write an Algorithm for a Dog Identification App \n",
    "\n",
    "---\n",
    "\n",
    "In this notebook, some template code has already been provided for you, and you will need to implement additional functionality to successfully complete this project. You will not need to modify the included code beyond what is requested. Sections that begin with **'(IMPLEMENTATION)'** in the header indicate that the following block of code will require additional functionality which you must provide. Instructions will be provided for each section, and the specifics of the implementation are marked in the code block with a 'TODO' statement. Please be sure to read the instructions carefully! \n",
    "\n",
    "> **Note**: Once you have completed all of the code implementations, you need to finalize your work by exporting the iPython Notebook as an HTML document. Before exporting the notebook to html, all of the code cells need to have been run so that reviewers can see the final implementation and output. You can then export the notebook by using the menu above and navigating to  \\n\",\n",
    "    \"**File -> Download as -> HTML (.html)**. Include the finished document along with this notebook as your submission.\n",
    "\n",
    "In addition to implementing code, there will be questions that you must answer which relate to the project and your implementation. Each section where you will answer a question is preceded by a **'Question X'** header. Carefully read each question and provide thorough answers in the following text boxes that begin with **'Answer:'**. Your project submission will be evaluated based on your answers to each of the questions and the implementation you provide.\n",
    "\n",
    ">**Note:** Code and Markdown cells can be executed using the **Shift + Enter** keyboard shortcut.  Markdown cells can be edited by double-clicking the cell to enter edit mode.\n",
    "\n",
    "The rubric contains _optional_ \"Stand Out Suggestions\" for enhancing the project beyond the minimum requirements. If you decide to pursue the \"Stand Out Suggestions\", you should include the code in this IPython notebook.\n",
    "\n",
    "\n",
    "\n",
    "---\n",
    "### Why We're Here \n",
    "\n",
    "In this notebook, you will make the first steps towards developing an algorithm that could be used as part of a mobile or web app.  At the end of this project, your code will accept any user-supplied image as input.  If a dog is detected in the image, it will provide an estimate of the dog's breed.  If a human is detected, it will provide an estimate of the dog breed that is most resembling.  The image below displays potential sample output of your finished project (... but we expect that each student's algorithm will behave differently!). \n",
    "\n",
    "![Sample Dog Output](images/sample_dog_output.png)\n",
    "\n",
    "In this real-world setting, you will need to piece together a series of models to perform different tasks; for instance, the algorithm that detects humans in an image will be different from the CNN that infers dog breed.  There are many points of possible failure, and no perfect algorithm exists.  Your imperfect solution will nonetheless create a fun user experience!\n",
    "\n",
    "### The Road Ahead\n",
    "\n",
    "We break the notebook into separate steps.  Feel free to use the links below to navigate the notebook.\n",
    "\n",
    "* [Step 0](#step0): Import Datasets\n",
    "* [Step 1](#step1): Detect Humans\n",
    "* [Step 2](#step2): Detect Dogs\n",
    "* [Step 3](#step3): Create a CNN to Classify Dog Breeds (from Scratch)\n",
    "* [Step 4](#step4): Use a CNN to Classify Dog Breeds (using Transfer Learning)\n",
    "* [Step 5](#step5): Create a CNN to Classify Dog Breeds (using Transfer Learning)\n",
    "* [Step 6](#step6): Write your Algorithm\n",
    "* [Step 7](#step7): Test Your Algorithm\n",
    "\n",
    "---\n",
    "<a id='step0'></a>\n",
    "## Step 0: Import Datasets\n",
    "\n",
    "### Import Dog Dataset\n",
    "\n",
    "In the code cell below, we import a dataset of dog images.  We populate a few variables through the use of the `load_files` function from the scikit-learn library:\n",
    "- `train_files`, `valid_files`, `test_files` - numpy arrays containing file paths to images\n",
    "- `train_targets`, `valid_targets`, `test_targets` - numpy arrays containing onehot-encoded classification labels \n",
    "- `dog_names` - list of string-valued dog breed names for translating labels"
   ]
  },
  {
   "cell_type": "code",
   "execution_count": 2,
   "metadata": {},
   "outputs": [
    {
     "name": "stderr",
     "output_type": "stream",
     "text": [
      "Using TensorFlow backend.\n"
     ]
    },
    {
     "name": "stdout",
     "output_type": "stream",
     "text": [
      "There are 133 total dog categories.\n",
      "There are 8351 total dog images.\n",
      "\n",
      "There are 6680 training dog images.\n",
      "There are 835 validation dog images.\n",
      "There are 836 test dog images.\n"
     ]
    }
   ],
   "source": [
    "from sklearn.datasets import load_files       \n",
    "from keras.utils import np_utils\n",
    "import numpy as np\n",
    "from glob import glob\n",
    "\n",
    "# define function to load train, test, and validation datasets\n",
    "def load_dataset(path):\n",
    "    data = load_files(path)\n",
    "    dog_files = np.array(data['filenames'])\n",
    "    dog_targets = np_utils.to_categorical(np.array(data['target']), 133)\n",
    "    return dog_files, dog_targets\n",
    "\n",
    "# load train, test, and validation datasets\n",
    "train_files, train_targets = load_dataset('dogImages/train')\n",
    "valid_files, valid_targets = load_dataset('dogImages/valid')\n",
    "test_files, test_targets = load_dataset('dogImages/test')\n",
    "\n",
    "# load list of dog names\n",
    "dog_names = [item[20:-1] for item in sorted(glob(\"dogImages/train/*/\"))]\n",
    "\n",
    "# print statistics about the dataset\n",
    "print('There are %d total dog categories.' % len(dog_names))\n",
    "print('There are %s total dog images.\\n' % len(np.hstack([train_files, valid_files, test_files])))\n",
    "print('There are %d training dog images.' % len(train_files))\n",
    "print('There are %d validation dog images.' % len(valid_files))\n",
    "print('There are %d test dog images.'% len(test_files))"
   ]
  },
  {
   "cell_type": "markdown",
   "metadata": {},
   "source": [
    "### Import Human Dataset\n",
    "\n",
    "In the code cell below, we import a dataset of human images, where the file paths are stored in the numpy array `human_files`."
   ]
  },
  {
   "cell_type": "code",
   "execution_count": 3,
   "metadata": {},
   "outputs": [
    {
     "name": "stdout",
     "output_type": "stream",
     "text": [
      "There are 13233 total human images.\n"
     ]
    }
   ],
   "source": [
    "import random\n",
    "random.seed(8675309)\n",
    "\n",
    "# load filenames in shuffled human dataset\n",
    "human_files = np.array(glob(\"lfw/*/*\"))\n",
    "random.shuffle(human_files)\n",
    "\n",
    "# print statistics about the dataset\n",
    "print('There are %d total human images.' % len(human_files))"
   ]
  },
  {
   "cell_type": "markdown",
   "metadata": {},
   "source": [
    "---\n",
    "<a id='step1'></a>\n",
    "## Step 1: Detect Humans\n",
    "\n",
    "We use OpenCV's implementation of [Haar feature-based cascade classifiers](http://docs.opencv.org/trunk/d7/d8b/tutorial_py_face_detection.html) to detect human faces in images.  OpenCV provides many pre-trained face detectors, stored as XML files on [github](https://github.com/opencv/opencv/tree/master/data/haarcascades).  We have downloaded one of these detectors and stored it in the `haarcascades` directory.\n",
    "\n",
    "In the next code cell, we demonstrate how to use this detector to find human faces in a sample image."
   ]
  },
  {
   "cell_type": "code",
   "execution_count": 4,
   "metadata": {},
   "outputs": [
    {
     "name": "stdout",
     "output_type": "stream",
     "text": [
      "Number of faces detected: 1\n"
     ]
    },
    {
     "data": {
      "image/png": "[encoded data removed]",
      "text/plain": [
       "<matplotlib.figure.Figure at 0x7f5a2b7fbfd0>"
      ]
     },
     "metadata": {},
     "output_type": "display_data"
    }
   ],
   "source": [
    "import cv2                \n",
    "import matplotlib.pyplot as plt                        \n",
    "%matplotlib inline                               \n",
    "\n",
    "# extract pre-trained face detector\n",
    "face_cascade = cv2.CascadeClassifier('haarcascades/haarcascade_frontalface_alt.xml')\n",
    "\n",
    "# load color (BGR) image\n",
    "img = cv2.imread(human_files[14])\n",
    "# convert BGR image to grayscale\n",
    "gray = cv2.cvtColor(img, cv2.COLOR_BGR2GRAY)\n",
    "\n",
    "# find faces in image\n",
    "faces = face_cascade.detectMultiScale(gray)\n",
    "\n",
    "# print number of faces detected in the image\n",
    "print('Number of faces detected:', len(faces))\n",
    "\n",
    "# get bounding box for each detected face\n",
    "for (x,y,w,h) in faces:\n",
    "    # add bounding box to color image\n",
    "    cv2.rectangle(img,(x,y),(x+w,y+h),(255,0,0),2)\n",
    "    \n",
    "# convert BGR image to RGB for plotting\n",
    "cv_rgb = cv2.cvtColor(img, cv2.COLOR_BGR2RGB)\n",
    "\n",
    "# display the image, along with bounding box\n",
    "plt.imshow(cv_rgb)\n",
    "plt.show()"
   ]
  },
  {
   "cell_type": "markdown",
   "metadata": {},
   "source": [
    "Before using any of the face detectors, it is standard procedure to convert the images to grayscale.  The `detectMultiScale` function executes the classifier stored in `face_cascade` and takes the grayscale image as a parameter.  \n",
    "\n",
    "In the above code, `faces` is a numpy array of detected faces, where each row corresponds to a detected face.  Each detected face is a 1D array with four entries that specifies the bounding box of the detected face.  The first two entries in the array (extracted in the above code as `x` and `y`) specify the horizontal and vertical positions of the top left corner of the bounding box.  The last two entries in the array (extracted here as `w` and `h`) specify the width and height of the box.\n",
    "\n",
    "### Write a Human Face Detector\n",
    "\n",
    "We can use this procedure to write a function that returns `True` if a human face is detected in an image and `False` otherwise.  This function, aptly named `face_detector`, takes a string-valued file path to an image as input and appears in the code block below."
   ]
  },
  {
   "cell_type": "code",
   "execution_count": 5,
   "metadata": {},
   "outputs": [],
   "source": [
    "# returns \"True\" if face is detected in image stored at img_path\n",
    "def face_detector(img_path):\n",
    "    img = cv2.imread(img_path)\n",
    "    gray = cv2.cvtColor(img, cv2.COLOR_BGR2GRAY)\n",
    "    faces = face_cascade.detectMultiScale(gray)\n",
    "    return len(faces) > 0"
   ]
  },
  {
   "cell_type": "markdown",
   "metadata": {},
   "source": [
    "### (IMPLEMENTATION) Assess the Human Face Detector\n",
    "\n",
    "__Question 1:__ Use the code cell below to test the performance of the `face_detector` function.  \n",
    "- What percentage of the first 100 images in `human_files` have a detected human face?  \n",
    "- What percentage of the first 100 images in `dog_files` have a detected human face? \n",
    "\n",
    "Ideally, we would like 100% of human images with a detected face and 0% of dog images with a detected face.  You will see that our algorithm falls short of this goal, but still gives acceptable performance.  We extract the file paths for the first 100 images from each of the datasets and store them in the numpy arrays `human_files_short` and `dog_files_short`.\n",
    "\n",
    "__Answer:__ 98% of the human images had a face detected. 11% of the dog images had a face detected."
   ]
  },
  {
   "cell_type": "code",
   "execution_count": 6,
   "metadata": {},
   "outputs": [
    {
     "name": "stdout",
     "output_type": "stream",
     "text": [
      "98.0% of the human images had a face detected\n",
      "11.0% of the dog images had a face detected\n"
     ]
    }
   ],
   "source": [
    "human_files_short = human_files[:100]\n",
    "dog_files_short = train_files[:100]\n",
    "# Do NOT modify the code above this line.\n",
    "\n",
    "## TODO: Test the performance of the face_detector algorithm \n",
    "## on the images in human_files_short and dog_files_short.\n",
    "h_count, d_count = 0, 0\n",
    "for human in human_files_short:\n",
    "    h_count += face_detector(human)\n",
    "\n",
    "for dog in dog_files_short:\n",
    "    d_count += face_detector(dog)\n",
    "#     if face_detector(dog):\n",
    "#         d_count += 1\n",
    "#         img = cv2.imread(dog)\n",
    "#         gray = cv2.cvtColor(img, cv2.COLOR_BGR2GRAY)\n",
    "#         faces = face_cascade.detectMultiScale(gray)\n",
    "#         # get bounding box for each detected face\n",
    "#         for (x,y,w,h) in faces:\n",
    "#             # add bounding box to color image\n",
    "#             cv2.rectangle(img,(x,y),(x+w,y+h),(255,0,0),2)\n",
    "#         cv_rgb = cv2.cvtColor(img, cv2.COLOR_BGR2RGB)      \n",
    "#         print(dog)\n",
    "#         plt.imshow(cv_rgb)\n",
    "#         plt.show()\n",
    "\n",
    "print('{:.1%} of the human images had a face detected'.format(h_count/len(human_files_short)))\n",
    "print('{:.1%} of the dog images had a face detected'.format(d_count/len(dog_files_short)))"
   ]
  },
  {
   "cell_type": "markdown",
   "metadata": {},
   "source": [
    "__Question 2:__ This algorithmic choice necessitates that we communicate to the user that we accept human images only when they provide a clear view of a face (otherwise, we risk having unneccessarily frustrated users!). In your opinion, is this a reasonable expectation to pose on the user? If not, can you think of a way to detect humans in images that does not necessitate an image with a clearly presented face?\n",
    "\n",
    "__Answer:__ This is a reasonable expectation to give to the user. Tools are built to do certain things, not necessarily all things. ... Research could be done to see if it is possible to train OpenCV or another network on partial/profile faces. However if we did detect humans with a non-clear face, we would know it was not a dog, but the dog classification piece may not work on non-clear human faces which would provide an additional problem.\n",
    "\n",
    "We suggest the face detector from OpenCV as a potential way to detect human images in your algorithm, but you are free to explore other approaches, especially approaches that make use of deep learning :).  Please use the code cell below to design and test your own face detection algorithm.  If you decide to pursue this _optional_ task, report performance on each of the datasets."
   ]
  },
  {
   "cell_type": "code",
   "execution_count": 7,
   "metadata": {},
   "outputs": [],
   "source": [
    "## (Optional) TODO: Report the performance of another  \n",
    "## face detection algorithm on the LFW dataset\n",
    "### Feel free to use as many code cells as needed."
   ]
  },
  {
   "cell_type": "markdown",
   "metadata": {},
   "source": [
    "---\n",
    "<a id='step2'></a>\n",
    "## Step 2: Detect Dogs\n",
    "\n",
    "In this section, we use a pre-trained [ResNet-50](http://ethereon.github.io/netscope/#/gist/db945b393d40bfa26006) model to detect dogs in images.  Our first line of code downloads the ResNet-50 model, along with weights that have been trained on [ImageNet](http://www.image-net.org/), a very large, very popular dataset used for image classification and other vision tasks.  ImageNet contains over 10 million URLs, each linking to an image containing an object from one of [1000 categories](https://gist.github.com/yrevar/942d3a0ac09ec9e5eb3a).  Given an image, this pre-trained ResNet-50 model returns a prediction (derived from the available categories in ImageNet) for the object that is contained in the image."
   ]
  },
  {
   "cell_type": "code",
   "execution_count": 8,
   "metadata": {},
   "outputs": [],
   "source": [
    "from keras.applications.resnet50 import ResNet50\n",
    "\n",
    "# define ResNet50 model\n",
    "ResNet50_model = ResNet50(weights='imagenet')"
   ]
  },
  {
   "cell_type": "markdown",
   "metadata": {},
   "source": [
    "### Pre-process the Data\n",
    "\n",
    "When using TensorFlow as backend, Keras CNNs require a 4D array (which we'll also refer to as a 4D tensor) as input, with shape\n",
    "\n",
    "$$\n",
    "(\\text{nb_samples}, \\text{rows}, \\text{columns}, \\text{channels}),\n",
    "$$\n",
    "\n",
    "where `nb_samples` corresponds to the total number of images (or samples), and `rows`, `columns`, and `channels` correspond to the number of rows, columns, and channels for each image, respectively.  \n",
    "\n",
    "The `path_to_tensor` function below takes a string-valued file path to a color image as input and returns a 4D tensor suitable for supplying to a Keras CNN.  The function first loads the image and resizes it to a square image that is $224 \\times 224$ pixels.  Next, the image is converted to an array, which is then resized to a 4D tensor.  In this case, since we are working with color images, each image has three channels.  Likewise, since we are processing a single image (or sample), the returned tensor will always have shape\n",
    "\n",
    "$$\n",
    "(1, 224, 224, 3).\n",
    "$$\n",
    "\n",
    "The `paths_to_tensor` function takes a numpy array of string-valued image paths as input and returns a 4D tensor with shape \n",
    "\n",
    "$$\n",
    "(\\text{nb_samples}, 224, 224, 3).\n",
    "$$\n",
    "\n",
    "Here, `nb_samples` is the number of samples, or number of images, in the supplied array of image paths.  It is best to think of `nb_samples` as the number of 3D tensors (where each 3D tensor corresponds to a different image) in your dataset!"
   ]
  },
  {
   "cell_type": "code",
   "execution_count": 9,
   "metadata": {},
   "outputs": [],
   "source": [
    "from keras.preprocessing import image                  \n",
    "from tqdm import tqdm\n",
    "\n",
    "def path_to_tensor(img_path):\n",
    "    # loads RGB image as PIL.Image.Image type\n",
    "    img = image.load_img(img_path, target_size=(224, 224))\n",
    "    # convert PIL.Image.Image type to 3D tensor with shape (224, 224, 3)\n",
    "    x = image.img_to_array(img)\n",
    "    # convert 3D tensor to 4D tensor with shape (1, 224, 224, 3) and return 4D tensor\n",
    "    return np.expand_dims(x, axis=0)\n",
    "\n",
    "def paths_to_tensor(img_paths):\n",
    "    list_of_tensors = [path_to_tensor(img_path) for img_path in tqdm(img_paths)]\n",
    "    return np.vstack(list_of_tensors)"
   ]
  },
  {
   "cell_type": "markdown",
   "metadata": {},
   "source": [
    "### Making Predictions with ResNet-50\n",
    "\n",
    "Getting the 4D tensor ready for ResNet-50, and for any other pre-trained model in Keras, requires some additional processing.  First, the RGB image is converted to BGR by reordering the channels.  All pre-trained models have the additional normalization step that the mean pixel (expressed in RGB as $[103.939, 116.779, 123.68]$ and calculated from all pixels in all images in ImageNet) must be subtracted from every pixel in each image.  This is implemented in the imported function `preprocess_input`.  If you're curious, you can check the code for `preprocess_input` [here](https://github.com/fchollet/keras/blob/master/keras/applications/imagenet_utils.py).\n",
    "\n",
    "Now that we have a way to format our image for supplying to ResNet-50, we are now ready to use the model to extract the predictions.  This is accomplished with the `predict` method, which returns an array whose $i$-th entry is the model's predicted probability that the image belongs to the $i$-th ImageNet category.  This is implemented in the `ResNet50_predict_labels` function below.\n",
    "\n",
    "By taking the argmax of the predicted probability vector, we obtain an integer corresponding to the model's predicted object class, which we can identify with an object category through the use of this [dictionary](https://gist.github.com/yrevar/942d3a0ac09ec9e5eb3a). "
   ]
  },
  {
   "cell_type": "code",
   "execution_count": 10,
   "metadata": {},
   "outputs": [],
   "source": [
    "from keras.applications.resnet50 import preprocess_input, decode_predictions\n",
    "\n",
    "def ResNet50_predict_labels(img_path):\n",
    "    # returns prediction vector for image located at img_path\n",
    "    img = preprocess_input(path_to_tensor(img_path))\n",
    "    return np.argmax(ResNet50_model.predict(img))"
   ]
  },
  {
   "cell_type": "markdown",
   "metadata": {},
   "source": [
    "### Write a Dog Detector\n",
    "\n",
    "While looking at the [dictionary](https://gist.github.com/yrevar/942d3a0ac09ec9e5eb3a), you will notice that the categories corresponding to dogs appear in an uninterrupted sequence and correspond to dictionary keys 151-268, inclusive, to include all categories from `'Chihuahua'` to `'Mexican hairless'`.  Thus, in order to check to see if an image is predicted to contain a dog by the pre-trained ResNet-50 model, we need only check if the `ResNet50_predict_labels` function above returns a value between 151 and 268 (inclusive).\n",
    "\n",
    "We use these ideas to complete the `dog_detector` function below, which returns `True` if a dog is detected in an image (and `False` if not)."
   ]
  },
  {
   "cell_type": "code",
   "execution_count": 11,
   "metadata": {},
   "outputs": [],
   "source": [
    "### returns \"True\" if a dog is detected in the image stored at img_path\n",
    "def dog_detector(img_path):\n",
    "    prediction = ResNet50_predict_labels(img_path)\n",
    "    return ((prediction <= 268) & (prediction >= 151)) "
   ]
  },
  {
   "cell_type": "markdown",
   "metadata": {},
   "source": [
    "### (IMPLEMENTATION) Assess the Dog Detector\n",
    "\n",
    "__Question 3:__ Use the code cell below to test the performance of your `dog_detector` function.  \n",
    "- What percentage of the images in `human_files_short` have a detected dog?  \n",
    "- What percentage of the images in `dog_files_short` have a detected dog?\n",
    "\n",
    "__Answer:__ 2.0% of the human images had a dog detected. 100.0% of the dog images had a dog detected."
   ]
  },
  {
   "cell_type": "code",
   "execution_count": 12,
   "metadata": {},
   "outputs": [
    {
     "name": "stdout",
     "output_type": "stream",
     "text": [
      "2.0% of the human images had a dog detected\n",
      "100.0% of the dog images had a dog detected\n"
     ]
    }
   ],
   "source": [
    "### TODO: Test the performance of the dog_detector function\n",
    "### on the images in human_files_short and dog_files_short.\n",
    "h_count, d_count = 0, 0\n",
    "for human in human_files_short:\n",
    "    h_count += dog_detector(human)\n",
    "#     if dog_detector(human):\n",
    "#         h_count += 1\n",
    "#         img = cv2.imread(human)\n",
    "#         print(human)\n",
    "#         plt.imshow(img)\n",
    "#         plt.show()\n",
    "        \n",
    "\n",
    "for dog in dog_files_short:\n",
    "    d_count += dog_detector(dog)\n",
    "\n",
    "print('{:.1%} of the human images had a dog detected'.format(h_count/len(human_files_short)))\n",
    "print('{:.1%} of the dog images had a dog detected'.format(d_count/len(dog_files_short)))"
   ]
  },
  {
   "cell_type": "markdown",
   "metadata": {},
   "source": [
    "---\n",
    "<a id='step3'></a>\n",
    "## Step 3: Create a CNN to Classify Dog Breeds (from Scratch)\n",
    "\n",
    "Now that we have functions for detecting humans and dogs in images, we need a way to predict breed from images.  In this step, you will create a CNN that classifies dog breeds.  You must create your CNN _from scratch_ (so, you can't use transfer learning _yet_!), and you must attain a test accuracy of at least 1%.  In Step 5 of this notebook, you will have the opportunity to use transfer learning to create a CNN that attains greatly improved accuracy.\n",
    "\n",
    "Be careful with adding too many trainable layers!  More parameters means longer training, which means you are more likely to need a GPU to accelerate the training process.  Thankfully, Keras provides a handy estimate of the time that each epoch is likely to take; you can extrapolate this estimate to figure out how long it will take for your algorithm to train. \n",
    "\n",
    "We mention that the task of assigning breed to dogs from images is considered exceptionally challenging.  To see why, consider that *even a human* would have great difficulty in distinguishing between a Brittany and a Welsh Springer Spaniel.  \n",
    "\n",
    "Brittany | Welsh Springer Spaniel\n",
    "- | - \n",
    "<img src=\"images/Brittany_02625.jpg\" width=\"100\"> | <img src=\"images/Welsh_springer_spaniel_08203.jpg\" width=\"200\">\n",
    "\n",
    "It is not difficult to find other dog breed pairs with minimal inter-class variation (for instance, Curly-Coated Retrievers and American Water Spaniels).  \n",
    "\n",
    "Curly-Coated Retriever | American Water Spaniel\n",
    "- | -\n",
    "<img src=\"images/Curly-coated_retriever_03896.jpg\" width=\"200\"> | <img src=\"images/American_water_spaniel_00648.jpg\" width=\"200\">\n",
    "\n",
    "\n",
    "Likewise, recall that labradors come in yellow, chocolate, and black.  Your vision-based algorithm will have to conquer this high intra-class variation to determine how to classify all of these different shades as the same breed.  \n",
    "\n",
    "Yellow Labrador | Chocolate Labrador | Black Labrador\n",
    "- | -\n",
    "<img src=\"images/Labrador_retriever_06457.jpg\" width=\"150\"> | <img src=\"images/Labrador_retriever_06455.jpg\" width=\"240\"> | <img src=\"images/Labrador_retriever_06449.jpg\" width=\"220\">\n",
    "\n",
    "We also mention that random chance presents an exceptionally low bar: setting aside the fact that the classes are slightly imabalanced, a random guess will provide a correct answer roughly 1 in 133 times, which corresponds to an accuracy of less than 1%.  \n",
    "\n",
    "Remember that the practice is far ahead of the theory in deep learning.  Experiment with many different architectures, and trust your intuition.  And, of course, have fun! \n",
    "\n",
    "### Pre-process the Data\n",
    "\n",
    "We rescale the images by dividing every pixel in every image by 255."
   ]
  },
  {
   "cell_type": "code",
   "execution_count": 12,
   "metadata": {},
   "outputs": [
    {
     "name": "stderr",
     "output_type": "stream",
     "text": [
      "100%|██████████| 6680/6680 [00:54<00:00, 122.97it/s]\n",
      "100%|██████████| 835/835 [00:06<00:00, 135.31it/s]\n",
      "100%|██████████| 836/836 [00:06<00:00, 135.18it/s]\n"
     ]
    }
   ],
   "source": [
    "from PIL import ImageFile                            \n",
    "ImageFile.LOAD_TRUNCATED_IMAGES = True\n",
    "\n",
    "# pre-process the data for Keras\n",
    "train_tensors = paths_to_tensor(train_files).astype('float32')/255\n",
    "valid_tensors = paths_to_tensor(valid_files).astype('float32')/255\n",
    "test_tensors = paths_to_tensor(test_files).astype('float32')/255"
   ]
  },
  {
   "cell_type": "markdown",
   "metadata": {},
   "source": [
    "### (IMPLEMENTATION) Model Architecture\n",
    "\n",
    "Create a CNN to classify dog breed.  At the end of your code cell block, summarize the layers of your model by executing the line:\n",
    "    \n",
    "        model.summary()\n",
    "\n",
    "We have imported some Python modules to get you started, but feel free to import as many modules as you need.  If you end up getting stuck, here's a hint that specifies a model that trains relatively fast on CPU and attains >1% test accuracy in 5 epochs:\n",
    "\n",
    "![Sample CNN](images/sample_cnn.png)\n",
    "           \n",
    "__Question 4:__ Outline the steps you took to get to your final CNN architecture and your reasoning at each step.  If you chose to use the hinted architecture above, describe why you think that CNN architecture should work well for the image classification task.\n",
    "\n",
    "__Answer:__\n",
    "* Used Conv2D+MaxPooling2D to reduce the length and width dimensions and increase the depth dimensionality.\n",
    "* Attempted several filter sizes and # of Conv2D layers, while trying to keep # of parameters less than 5 million to keep training time per epoch under 50sec on GPU and prevent overfitting.\n",
    "* Added Dropout after each MaxPooling2D to prevent overfitting (so layer less likely to see same image multiple times).\n",
    "* Flattend the tensor to allow to be fed into fully connected layers.\n",
    "* Added fully connected layers to make sense of the feature weights/code provided by the convolutional layers - allowed a FC layer of 128 to learn and then feed into a FC layer of 133 which categorized the different breeds based on softmax."
   ]
  },
  {
   "cell_type": "code",
   "execution_count": 19,
   "metadata": {},
   "outputs": [
    {
     "name": "stdout",
     "output_type": "stream",
     "text": [
      "_________________________________________________________________\n",
      "Layer (type)                 Output Shape              Param #   \n",
      "=================================================================\n",
      "conv2d_1 (Conv2D)            (None, 224, 224, 16)      448       \n",
      "_________________________________________________________________\n",
      "conv2d_2 (Conv2D)            (None, 224, 224, 16)      2320      \n",
      "_________________________________________________________________\n",
      "max_pooling2d_2 (MaxPooling2 (None, 112, 112, 16)      0         \n",
      "_________________________________________________________________\n",
      "dropout_1 (Dropout)          (None, 112, 112, 16)      0         \n",
      "_________________________________________________________________\n",
      "conv2d_3 (Conv2D)            (None, 112, 112, 32)      4640      \n",
      "_________________________________________________________________\n",
      "max_pooling2d_3 (MaxPooling2 (None, 56, 56, 32)        0         \n",
      "_________________________________________________________________\n",
      "conv2d_4 (Conv2D)            (None, 56, 56, 32)        9248      \n",
      "_________________________________________________________________\n",
      "max_pooling2d_4 (MaxPooling2 (None, 28, 28, 32)        0         \n",
      "_________________________________________________________________\n",
      "dropout_2 (Dropout)          (None, 28, 28, 32)        0         \n",
      "_________________________________________________________________\n",
      "flatten_2 (Flatten)          (None, 25088)             0         \n",
      "_________________________________________________________________\n",
      "dense_1 (Dense)              (None, 128)               3211392   \n",
      "_________________________________________________________________\n",
      "dropout_3 (Dropout)          (None, 128)               0         \n",
      "_________________________________________________________________\n",
      "dense_2 (Dense)              (None, 133)               17157     \n",
      "=================================================================\n",
      "Total params: 3,245,205.0\n",
      "Trainable params: 3,245,205.0\n",
      "Non-trainable params: 0.0\n",
      "_________________________________________________________________\n"
     ]
    }
   ],
   "source": [
    "from keras.layers import Conv2D, MaxPooling2D, GlobalAveragePooling2D\n",
    "from keras.layers import Dropout, Flatten, Dense\n",
    "from keras.models import Sequential\n",
    "\n",
    "model = Sequential()\n",
    "\n",
    "### TODO: Define your architecture.\n",
    "model.add(Conv2D(filters=16, kernel_size=3, padding='same',\n",
    "                 activation='relu', input_shape=(224, 224, 3)))\n",
    "model.add(Conv2D(16, 3, padding='same', activation='relu'))\n",
    "model.add(MaxPooling2D(pool_size=2))\n",
    "model.add(Dropout(0.4))\n",
    "model.add(Conv2D(32, 3, padding='same', activation='relu'))\n",
    "model.add(MaxPooling2D(pool_size=2))\n",
    "model.add(Conv2D(32, 3, padding='same', activation='relu'))\n",
    "model.add(MaxPooling2D(pool_size=2))\n",
    "model.add(Dropout(0.5))\n",
    "model.add(Flatten())\n",
    "model.add(Dense(128, activation='relu'))\n",
    "model.add(Dropout(0.5))\n",
    "model.add(Dense(133, activation='softmax'))\n",
    "\n",
    "model.summary()"
   ]
  },
  {
   "cell_type": "markdown",
   "metadata": {},
   "source": [
    "### Compile the Model"
   ]
  },
  {
   "cell_type": "code",
   "execution_count": 14,
   "metadata": {},
   "outputs": [],
   "source": [
    "model.compile(optimizer='rmsprop', loss='categorical_crossentropy', metrics=['accuracy'])"
   ]
  },
  {
   "cell_type": "markdown",
   "metadata": {},
   "source": [
    "### (IMPLEMENTATION) Train the Model\n",
    "\n",
    "Train your model in the code cell below.  Use model checkpointing to save the model that attains the best validation loss.\n",
    "\n",
    "You are welcome to [augment the training data](https://blog.keras.io/building-powerful-image-classification-models-using-very-little-data.html), but this is not a requirement. "
   ]
  },
  {
   "cell_type": "code",
   "execution_count": 16,
   "metadata": {},
   "outputs": [
    {
     "name": "stdout",
     "output_type": "stream",
     "text": [
      "Train on 6680 samples, validate on 835 samples\n",
      "Epoch 1/20\n",
      "6660/6680 [============================>.] - ETA: 0s - loss: 4.8746 - acc: 0.0123Epoch 00000: val_loss improved from inf to 4.86507, saving model to saved_models/weights.best.from_scratch.hdf5\n",
      "6680/6680 [==============================] - 42s - loss: 4.8744 - acc: 0.0123 - val_loss: 4.8651 - val_acc: 0.0168\n",
      "Epoch 2/20\n",
      "6660/6680 [============================>.] - ETA: 0s - loss: 4.8374 - acc: 0.0161Epoch 00001: val_loss improved from 4.86507 to 4.80222, saving model to saved_models/weights.best.from_scratch.hdf5\n",
      "6680/6680 [==============================] - 42s - loss: 4.8373 - acc: 0.0160 - val_loss: 4.8022 - val_acc: 0.0204\n",
      "Epoch 3/20\n",
      "6660/6680 [============================>.] - ETA: 0s - loss: 4.7300 - acc: 0.0273Epoch 00002: val_loss improved from 4.80222 to 4.73535, saving model to saved_models/weights.best.from_scratch.hdf5\n",
      "6680/6680 [==============================] - 42s - loss: 4.7305 - acc: 0.0272 - val_loss: 4.7354 - val_acc: 0.0323\n",
      "Epoch 4/20\n",
      "6660/6680 [============================>.] - ETA: 0s - loss: 4.5911 - acc: 0.0377Epoch 00003: val_loss improved from 4.73535 to 4.62922, saving model to saved_models/weights.best.from_scratch.hdf5\n",
      "6680/6680 [==============================] - 42s - loss: 4.5907 - acc: 0.0377 - val_loss: 4.6292 - val_acc: 0.0407\n",
      "Epoch 5/20\n",
      "6660/6680 [============================>.] - ETA: 0s - loss: 4.4648 - acc: 0.0514Epoch 00004: val_loss improved from 4.62922 to 4.57564, saving model to saved_models/weights.best.from_scratch.hdf5\n",
      "6680/6680 [==============================] - 42s - loss: 4.4643 - acc: 0.0515 - val_loss: 4.5756 - val_acc: 0.0467\n",
      "Epoch 6/20\n",
      "6660/6680 [============================>.] - ETA: 0s - loss: 4.2985 - acc: 0.0716Epoch 00005: val_loss improved from 4.57564 to 4.49521, saving model to saved_models/weights.best.from_scratch.hdf5\n",
      "6680/6680 [==============================] - 42s - loss: 4.2988 - acc: 0.0717 - val_loss: 4.4952 - val_acc: 0.0515\n",
      "Epoch 7/20\n",
      "6660/6680 [============================>.] - ETA: 0s - loss: 4.1152 - acc: 0.0893Epoch 00006: val_loss improved from 4.49521 to 4.42360, saving model to saved_models/weights.best.from_scratch.hdf5\n",
      "6680/6680 [==============================] - 42s - loss: 4.1156 - acc: 0.0892 - val_loss: 4.4236 - val_acc: 0.0587\n",
      "Epoch 8/20\n",
      "6660/6680 [============================>.] - ETA: 0s - loss: 3.9570 - acc: 0.1122Epoch 00007: val_loss did not improve\n",
      "6680/6680 [==============================] - 42s - loss: 3.9578 - acc: 0.1121 - val_loss: 4.5001 - val_acc: 0.0599\n",
      "Epoch 9/20\n",
      "6660/6680 [============================>.] - ETA: 0s - loss: 3.7764 - acc: 0.1363Epoch 00008: val_loss improved from 4.42360 to 4.38920, saving model to saved_models/weights.best.from_scratch.hdf5\n",
      "6680/6680 [==============================] - 42s - loss: 3.7759 - acc: 0.1364 - val_loss: 4.3892 - val_acc: 0.0683\n",
      "Epoch 10/20\n",
      "6660/6680 [============================>.] - ETA: 0s - loss: 3.6451 - acc: 0.1548Epoch 00009: val_loss improved from 4.38920 to 4.33542, saving model to saved_models/weights.best.from_scratch.hdf5\n",
      "6680/6680 [==============================] - 41s - loss: 3.6450 - acc: 0.1546 - val_loss: 4.3354 - val_acc: 0.0659\n",
      "Epoch 11/20\n",
      "6660/6680 [============================>.] - ETA: 0s - loss: 3.4965 - acc: 0.1751Epoch 00010: val_loss did not improve\n",
      "6680/6680 [==============================] - 41s - loss: 3.4969 - acc: 0.1750 - val_loss: 4.4965 - val_acc: 0.0695\n",
      "Epoch 12/20\n",
      "6660/6680 [============================>.] - ETA: 0s - loss: 3.3838 - acc: 0.2048Epoch 00011: val_loss did not improve\n",
      "6680/6680 [==============================] - 41s - loss: 3.3850 - acc: 0.2043 - val_loss: 4.3655 - val_acc: 0.0635\n",
      "Epoch 13/20\n",
      "6660/6680 [============================>.] - ETA: 0s - loss: 3.2632 - acc: 0.2255Epoch 00012: val_loss did not improve\n",
      "6680/6680 [==============================] - 42s - loss: 3.2637 - acc: 0.2251 - val_loss: 4.3919 - val_acc: 0.0659\n"
     ]
    },
    {
     "data": {
      "text/plain": [
       "<keras.callbacks.History at 0x7f949a5f9588>"
      ]
     },
     "execution_count": 16,
     "metadata": {},
     "output_type": "execute_result"
    }
   ],
   "source": [
    "from keras.callbacks import ModelCheckpoint\n",
    "from keras.callbacks import EarlyStopping\n",
    "\n",
    "### TODO: specify the number of epochs that you would like to use to train the model.\n",
    "\n",
    "epochs = 20\n",
    "earlystopper = EarlyStopping(monitor='val_loss', min_delta=0, patience=2, verbose=0, mode='auto')\n",
    "\n",
    "### Do NOT modify the code below this line.\n",
    "\n",
    "checkpointer = ModelCheckpoint(filepath='saved_models/weights.best.from_scratch.hdf5', \n",
    "                               verbose=1, save_best_only=True)\n",
    "\n",
    "model.fit(train_tensors, train_targets, \n",
    "          validation_data=(valid_tensors, valid_targets),\n",
    "          epochs=epochs, batch_size=20, callbacks=[earlystopper, checkpointer], verbose=1)"
   ]
  },
  {
   "cell_type": "markdown",
   "metadata": {},
   "source": [
    "### Load the Model with the Best Validation Loss"
   ]
  },
  {
   "cell_type": "code",
   "execution_count": 17,
   "metadata": {},
   "outputs": [],
   "source": [
    "model.load_weights('saved_models/weights.best.from_scratch.hdf5')"
   ]
  },
  {
   "cell_type": "markdown",
   "metadata": {},
   "source": [
    "### Test the Model\n",
    "\n",
    "Try out your model on the test dataset of dog images.  Ensure that your test accuracy is greater than 1%."
   ]
  },
  {
   "cell_type": "code",
   "execution_count": 18,
   "metadata": {},
   "outputs": [
    {
     "name": "stdout",
     "output_type": "stream",
     "text": [
      "Test accuracy: 6.4593%\n"
     ]
    }
   ],
   "source": [
    "# get index of predicted dog breed for each image in test set\n",
    "dog_breed_predictions = [np.argmax(model.predict(np.expand_dims(tensor, axis=0))) for tensor in test_tensors]\n",
    "\n",
    "# report test accuracy\n",
    "test_accuracy = 100*np.sum(np.array(dog_breed_predictions)==np.argmax(test_targets, axis=1))/len(dog_breed_predictions)\n",
    "print('Test accuracy: %.4f%%' % test_accuracy)"
   ]
  },
  {
   "cell_type": "markdown",
   "metadata": {},
   "source": [
    "---\n",
    "<a id='step4'></a>\n",
    "## Step 4: Use a CNN to Classify Dog Breeds\n",
    "\n",
    "To reduce training time without sacrificing accuracy, we show you how to train a CNN using transfer learning.  In the following step, you will get a chance to use transfer learning to train your own CNN.\n",
    "\n",
    "### Obtain Bottleneck Features"
   ]
  },
  {
   "cell_type": "code",
   "execution_count": 19,
   "metadata": {},
   "outputs": [],
   "source": [
    "bottleneck_features = np.load('bottleneck_features/DogVGG16Data.npz')\n",
    "train_VGG16 = bottleneck_features['train']\n",
    "valid_VGG16 = bottleneck_features['valid']\n",
    "test_VGG16 = bottleneck_features['test']"
   ]
  },
  {
   "cell_type": "markdown",
   "metadata": {},
   "source": [
    "### Model Architecture\n",
    "\n",
    "The model uses the the pre-trained VGG-16 model as a fixed feature extractor, where the last convolutional output of VGG-16 is fed as input to our model.  We only add a global average pooling layer and a fully connected layer, where the latter contains one node for each dog category and is equipped with a softmax."
   ]
  },
  {
   "cell_type": "code",
   "execution_count": 20,
   "metadata": {},
   "outputs": [
    {
     "name": "stdout",
     "output_type": "stream",
     "text": [
      "_________________________________________________________________\n",
      "Layer (type)                 Output Shape              Param #   \n",
      "=================================================================\n",
      "global_average_pooling2d_1 ( (None, 512)               0         \n",
      "_________________________________________________________________\n",
      "dense_3 (Dense)              (None, 133)               68229     \n",
      "=================================================================\n",
      "Total params: 68,229.0\n",
      "Trainable params: 68,229.0\n",
      "Non-trainable params: 0.0\n",
      "_________________________________________________________________\n"
     ]
    }
   ],
   "source": [
    "VGG16_model = Sequential()\n",
    "VGG16_model.add(GlobalAveragePooling2D(input_shape=train_VGG16.shape[1:]))\n",
    "VGG16_model.add(Dense(133, activation='softmax'))\n",
    "\n",
    "VGG16_model.summary()"
   ]
  },
  {
   "cell_type": "markdown",
   "metadata": {},
   "source": [
    "### Compile the Model"
   ]
  },
  {
   "cell_type": "code",
   "execution_count": 21,
   "metadata": {},
   "outputs": [],
   "source": [
    "VGG16_model.compile(loss='categorical_crossentropy', optimizer='rmsprop', metrics=['accuracy'])"
   ]
  },
  {
   "cell_type": "markdown",
   "metadata": {},
   "source": [
    "### Train the Model"
   ]
  },
  {
   "cell_type": "code",
   "execution_count": 22,
   "metadata": {},
   "outputs": [
    {
     "name": "stdout",
     "output_type": "stream",
     "text": [
      "Train on 6680 samples, validate on 835 samples\n",
      "Epoch 1/20\n",
      "6480/6680 [============================>.] - ETA: 0s - loss: 12.5444 - acc: 0.1108Epoch 00000: val_loss improved from inf to 10.90243, saving model to saved_models/weights.best.VGG16.hdf5\n",
      "6680/6680 [==============================] - 1s - loss: 12.5036 - acc: 0.1135 - val_loss: 10.9024 - val_acc: 0.2168\n",
      "Epoch 2/20\n",
      "6500/6680 [============================>.] - ETA: 0s - loss: 10.3967 - acc: 0.2611Epoch 00001: val_loss improved from 10.90243 to 10.16933, saving model to saved_models/weights.best.VGG16.hdf5\n",
      "6680/6680 [==============================] - 1s - loss: 10.3739 - acc: 0.2630 - val_loss: 10.1693 - val_acc: 0.2695\n",
      "Epoch 3/20\n",
      "6500/6680 [============================>.] - ETA: 0s - loss: 9.7805 - acc: 0.3308Epoch 00002: val_loss improved from 10.16933 to 9.94373, saving model to saved_models/weights.best.VGG16.hdf5\n",
      "6680/6680 [==============================] - 1s - loss: 9.7715 - acc: 0.3308 - val_loss: 9.9437 - val_acc: 0.2874\n",
      "Epoch 4/20\n",
      "6500/6680 [============================>.] - ETA: 0s - loss: 9.3943 - acc: 0.3658Epoch 00003: val_loss improved from 9.94373 to 9.53238, saving model to saved_models/weights.best.VGG16.hdf5\n",
      "6680/6680 [==============================] - 1s - loss: 9.3637 - acc: 0.3669 - val_loss: 9.5324 - val_acc: 0.3246\n",
      "Epoch 5/20\n",
      "6500/6680 [============================>.] - ETA: 0s - loss: 9.1176 - acc: 0.3963Epoch 00004: val_loss improved from 9.53238 to 9.48564, saving model to saved_models/weights.best.VGG16.hdf5\n",
      "6680/6680 [==============================] - 1s - loss: 9.0977 - acc: 0.3969 - val_loss: 9.4856 - val_acc: 0.3269\n",
      "Epoch 6/20\n",
      "6480/6680 [============================>.] - ETA: 0s - loss: 8.8498 - acc: 0.4139Epoch 00005: val_loss improved from 9.48564 to 9.12492, saving model to saved_models/weights.best.VGG16.hdf5\n",
      "6680/6680 [==============================] - 1s - loss: 8.8534 - acc: 0.4138 - val_loss: 9.1249 - val_acc: 0.3617\n",
      "Epoch 7/20\n",
      "6520/6680 [============================>.] - ETA: 0s - loss: 8.5719 - acc: 0.4434Epoch 00006: val_loss improved from 9.12492 to 9.04002, saving model to saved_models/weights.best.VGG16.hdf5\n",
      "6680/6680 [==============================] - 1s - loss: 8.5733 - acc: 0.4434 - val_loss: 9.0400 - val_acc: 0.3665\n",
      "Epoch 8/20\n",
      "6480/6680 [============================>.] - ETA: 0s - loss: 8.5012 - acc: 0.4546Epoch 00007: val_loss improved from 9.04002 to 9.00854, saving model to saved_models/weights.best.VGG16.hdf5\n",
      "6680/6680 [==============================] - 1s - loss: 8.5195 - acc: 0.4536 - val_loss: 9.0085 - val_acc: 0.3641\n",
      "Epoch 9/20\n",
      "6480/6680 [============================>.] - ETA: 0s - loss: 8.5057 - acc: 0.4571Epoch 00008: val_loss did not improve\n",
      "6680/6680 [==============================] - 1s - loss: 8.4989 - acc: 0.4572 - val_loss: 9.0240 - val_acc: 0.3737\n",
      "Epoch 10/20\n",
      "6480/6680 [============================>.] - ETA: 0s - loss: 8.4922 - acc: 0.4627Epoch 00009: val_loss improved from 9.00854 to 8.94336, saving model to saved_models/weights.best.VGG16.hdf5\n",
      "6680/6680 [==============================] - 1s - loss: 8.4636 - acc: 0.4642 - val_loss: 8.9434 - val_acc: 0.3844\n",
      "Epoch 11/20\n",
      "6480/6680 [============================>.] - ETA: 0s - loss: 8.2971 - acc: 0.4701Epoch 00010: val_loss improved from 8.94336 to 8.77053, saving model to saved_models/weights.best.VGG16.hdf5\n",
      "6680/6680 [==============================] - 1s - loss: 8.2937 - acc: 0.4701 - val_loss: 8.7705 - val_acc: 0.3976\n",
      "Epoch 12/20\n",
      "6480/6680 [============================>.] - ETA: 0s - loss: 8.1759 - acc: 0.4821Epoch 00011: val_loss improved from 8.77053 to 8.57635, saving model to saved_models/weights.best.VGG16.hdf5\n",
      "6680/6680 [==============================] - 1s - loss: 8.1770 - acc: 0.4817 - val_loss: 8.5763 - val_acc: 0.4108\n",
      "Epoch 13/20\n",
      "6500/6680 [============================>.] - ETA: 0s - loss: 8.0735 - acc: 0.4897Epoch 00012: val_loss did not improve\n",
      "6680/6680 [==============================] - 1s - loss: 8.0731 - acc: 0.4895 - val_loss: 8.6563 - val_acc: 0.4012\n",
      "Epoch 14/20\n",
      "6500/6680 [============================>.] - ETA: 0s - loss: 8.0738 - acc: 0.4931Epoch 00013: val_loss did not improve\n",
      "6680/6680 [==============================] - 1s - loss: 8.0424 - acc: 0.4951 - val_loss: 8.5860 - val_acc: 0.4060\n",
      "Epoch 15/20\n",
      "6480/6680 [============================>.] - ETA: 0s - loss: 8.0325 - acc: 0.4968Epoch 00014: val_loss improved from 8.57635 to 8.56495, saving model to saved_models/weights.best.VGG16.hdf5\n",
      "6680/6680 [==============================] - 1s - loss: 8.0383 - acc: 0.4966 - val_loss: 8.5649 - val_acc: 0.4108\n",
      "Epoch 16/20\n",
      "6500/6680 [============================>.] - ETA: 0s - loss: 8.0257 - acc: 0.4977Epoch 00015: val_loss improved from 8.56495 to 8.53459, saving model to saved_models/weights.best.VGG16.hdf5\n",
      "6680/6680 [==============================] - 1s - loss: 8.0315 - acc: 0.4975 - val_loss: 8.5346 - val_acc: 0.4132\n",
      "Epoch 17/20\n",
      "6500/6680 [============================>.] - ETA: 0s - loss: 7.9912 - acc: 0.4982Epoch 00016: val_loss did not improve\n",
      "6680/6680 [==============================] - 1s - loss: 7.9984 - acc: 0.4978 - val_loss: 8.5409 - val_acc: 0.4144\n",
      "Epoch 18/20\n",
      "6480/6680 [============================>.] - ETA: 0s - loss: 7.9299 - acc: 0.5043Epoch 00017: val_loss did not improve\n",
      "6680/6680 [==============================] - 1s - loss: 7.9226 - acc: 0.5045 - val_loss: 8.5613 - val_acc: 0.4192\n",
      "Epoch 19/20\n",
      "6460/6680 [============================>.] - ETA: 0s - loss: 7.9223 - acc: 0.5063Epoch 00018: val_loss improved from 8.53459 to 8.45268, saving model to saved_models/weights.best.VGG16.hdf5\n",
      "6680/6680 [==============================] - 1s - loss: 7.9099 - acc: 0.5070 - val_loss: 8.4527 - val_acc: 0.4216\n",
      "Epoch 20/20\n",
      "6500/6680 [============================>.] - ETA: 0s - loss: 7.9348 - acc: 0.5060Epoch 00019: val_loss did not improve\n",
      "6680/6680 [==============================] - 1s - loss: 7.9043 - acc: 0.5079 - val_loss: 8.5045 - val_acc: 0.4168\n"
     ]
    },
    {
     "data": {
      "text/plain": [
       "<keras.callbacks.History at 0x7f949a46d2b0>"
      ]
     },
     "execution_count": 22,
     "metadata": {},
     "output_type": "execute_result"
    }
   ],
   "source": [
    "checkpointer = ModelCheckpoint(filepath='saved_models/weights.best.VGG16.hdf5', \n",
    "                               verbose=1, save_best_only=True)\n",
    "\n",
    "VGG16_model.fit(train_VGG16, train_targets, \n",
    "          validation_data=(valid_VGG16, valid_targets),\n",
    "          epochs=20, batch_size=20, callbacks=[checkpointer], verbose=1)"
   ]
  },
  {
   "cell_type": "markdown",
   "metadata": {},
   "source": [
    "### Load the Model with the Best Validation Loss"
   ]
  },
  {
   "cell_type": "code",
   "execution_count": 23,
   "metadata": {},
   "outputs": [],
   "source": [
    "VGG16_model.load_weights('saved_models/weights.best.VGG16.hdf5')"
   ]
  },
  {
   "cell_type": "markdown",
   "metadata": {},
   "source": [
    "### Test the Model\n",
    "\n",
    "Now, we can use the CNN to test how well it identifies breed within our test dataset of dog images.  We print the test accuracy below."
   ]
  },
  {
   "cell_type": "code",
   "execution_count": 24,
   "metadata": {},
   "outputs": [
    {
     "name": "stdout",
     "output_type": "stream",
     "text": [
      "Test accuracy: 41.5072%\n"
     ]
    }
   ],
   "source": [
    "# get index of predicted dog breed for each image in test set\n",
    "VGG16_predictions = [np.argmax(VGG16_model.predict(np.expand_dims(feature, axis=0))) for feature in test_VGG16]\n",
    "\n",
    "# report test accuracy\n",
    "test_accuracy = 100*np.sum(np.array(VGG16_predictions)==np.argmax(test_targets, axis=1))/len(VGG16_predictions)\n",
    "print('Test accuracy: %.4f%%' % test_accuracy)"
   ]
  },
  {
   "cell_type": "markdown",
   "metadata": {},
   "source": [
    "### Predict Dog Breed with the Model"
   ]
  },
  {
   "cell_type": "code",
   "execution_count": 25,
   "metadata": {},
   "outputs": [],
   "source": [
    "from extract_bottleneck_features import *\n",
    "\n",
    "def VGG16_predict_breed(img_path):\n",
    "    # extract bottleneck features\n",
    "    bottleneck_feature = extract_VGG16(path_to_tensor(img_path))\n",
    "    # obtain predicted vector\n",
    "    predicted_vector = VGG16_model.predict(bottleneck_feature)\n",
    "    # return dog breed that is predicted by the model\n",
    "    return dog_names[np.argmax(predicted_vector)]"
   ]
  },
  {
   "cell_type": "markdown",
   "metadata": {},
   "source": [
    "---\n",
    "<a id='step5'></a>\n",
    "## Step 5: Create a CNN to Classify Dog Breeds (using Transfer Learning)\n",
    "\n",
    "You will now use transfer learning to create a CNN that can identify dog breed from images.  Your CNN must attain at least 60% accuracy on the test set.\n",
    "\n",
    "In Step 4, we used transfer learning to create a CNN using VGG-16 bottleneck features.  In this section, you must use the bottleneck features from a different pre-trained model.  To make things easier for you, we have pre-computed the features for all of the networks that are currently available in Keras:\n",
    "- [VGG-19](https://s3-us-west-1.amazonaws.com/udacity-aind/dog-project/DogVGG19Data.npz) bottleneck features\n",
    "- [ResNet-50](https://s3-us-west-1.amazonaws.com/udacity-aind/dog-project/DogResnet50Data.npz) bottleneck features\n",
    "- [Inception](https://s3-us-west-1.amazonaws.com/udacity-aind/dog-project/DogInceptionV3Data.npz) bottleneck features\n",
    "- [Xception](https://s3-us-west-1.amazonaws.com/udacity-aind/dog-project/DogXceptionData.npz) bottleneck features\n",
    "\n",
    "The files are encoded as such:\n",
    "\n",
    "    Dog{network}Data.npz\n",
    "    \n",
    "where `{network}`, in the above filename, can be one of `VGG19`, `Resnet50`, `InceptionV3`, or `Xception`.  Pick one of the above architectures, download the corresponding bottleneck features, and store the downloaded file in the `bottleneck_features/` folder in the repository.\n",
    "\n",
    "### (IMPLEMENTATION) Obtain Bottleneck Features\n",
    "\n",
    "In the code block below, extract the bottleneck features corresponding to the train, test, and validation sets by running the following:\n",
    "\n",
    "    bottleneck_features = np.load('bottleneck_features/Dog{network}Data.npz')\n",
    "    train_{network} = bottleneck_features['train']\n",
    "    valid_{network} = bottleneck_features['valid']\n",
    "    test_{network} = bottleneck_features['test']"
   ]
  },
  {
   "cell_type": "code",
   "execution_count": 27,
   "metadata": {},
   "outputs": [],
   "source": [
    "### TODO: Obtain bottleneck features from another pre-trained CNN.\n",
    "from extract_bottleneck_features import *\n",
    "bottleneck_features = np.load('bottleneck_features/DogInceptionV3Data.npz')\n",
    "train_InceptionV3 = bottleneck_features['train']\n",
    "valid_InceptionV3 = bottleneck_features['valid']\n",
    "test_InceptionV3 = bottleneck_features['test']"
   ]
  },
  {
   "cell_type": "markdown",
   "metadata": {},
   "source": [
    "### (IMPLEMENTATION) Model Architecture\n",
    "\n",
    "Create a CNN to classify dog breed.  At the end of your code cell block, summarize the layers of your model by executing the line:\n",
    "    \n",
    "        <your model's name>.summary()\n",
    "   \n",
    "__Question 5:__ Outline the steps you took to get to your final CNN architecture and your reasoning at each step.  Describe why you think the architecture is suitable for the current problem.\n",
    "\n",
    "__Answer:__ \n",
    "* I used the GAP + single FC layer architecture from the VGG 16 example.\n",
    "* This gave good performance, but I tried to improve it by adding an additional FC layer. While I got close to the GAP + FC performance, I could not exceed it.\n",
    "* I added a Dropout layer to increase the test accuracy by a small fraction of a percent.\n",
    "* I did improve the preformance by changing the batch size to 42 and changing the optimizer to Adam (along with customizing it's learning rate to 0.0001)."
   ]
  },
  {
   "cell_type": "code",
   "execution_count": 20,
   "metadata": {},
   "outputs": [
    {
     "name": "stdout",
     "output_type": "stream",
     "text": [
      "_________________________________________________________________\n",
      "Layer (type)                 Output Shape              Param #   \n",
      "=================================================================\n",
      "dropout_4 (Dropout)          (None, 5, 5, 2048)        0         \n",
      "_________________________________________________________________\n",
      "global_average_pooling2d_1 ( (None, 2048)              0         \n",
      "_________________________________________________________________\n",
      "dense_3 (Dense)              (None, 133)               272517    \n",
      "=================================================================\n",
      "Total params: 272,517.0\n",
      "Trainable params: 272,517.0\n",
      "Non-trainable params: 0.0\n",
      "_________________________________________________________________\n"
     ]
    }
   ],
   "source": [
    "### TODO: Define your architecture.\n",
    "from keras.layers import Concatenate\n",
    "\n",
    "my_cnn_model = Sequential()\n",
    "\n",
    "my_cnn_model.add(Dropout(0.1, input_shape=train_InceptionV3.shape[1:]))\n",
    "my_cnn_model.add(GlobalAveragePooling2D())\n",
    "my_cnn_model.add(Dense(133, activation='softmax'))\n",
    "\n",
    "my_cnn_model.summary()"
   ]
  },
  {
   "cell_type": "markdown",
   "metadata": {},
   "source": [
    "### (IMPLEMENTATION) Compile the Model"
   ]
  },
  {
   "cell_type": "code",
   "execution_count": 21,
   "metadata": {},
   "outputs": [],
   "source": [
    "### TODO: Compile the model.\n",
    "from keras.optimizers import Adam\n",
    "adam = Adam(lr=0.0001)\n",
    "my_cnn_model.compile(optimizer=adam,\n",
    "                     loss='categorical_crossentropy',\n",
    "                     metrics=['accuracy'])"
   ]
  },
  {
   "cell_type": "markdown",
   "metadata": {},
   "source": [
    "### (IMPLEMENTATION) Train the Model\n",
    "\n",
    "Train your model in the code cell below.  Use model checkpointing to save the model that attains the best validation loss.  \n",
    "\n",
    "You are welcome to [augment the training data](https://blog.keras.io/building-powerful-image-classification-models-using-very-little-data.html), but this is not a requirement. "
   ]
  },
  {
   "cell_type": "code",
   "execution_count": 22,
   "metadata": {},
   "outputs": [
    {
     "name": "stdout",
     "output_type": "stream",
     "text": [
      "Train on 6680 samples, validate on 835 samples\n",
      "Epoch 1/50\n",
      "6510/6680 [============================>.] - ETA: 0s - loss: 3.6261 - acc: 0.2939Epoch 00000: val_loss improved from inf to 2.13008, saving model to saved_models/weights.myinceptionmodel.hdf5\n",
      "6680/6680 [==============================] - 2s - loss: 3.5912 - acc: 0.3024 - val_loss: 2.1301 - val_acc: 0.6683\n",
      "Epoch 2/50\n",
      "6510/6680 [============================>.] - ETA: 0s - loss: 1.5306 - acc: 0.7327Epoch 00001: val_loss improved from 2.13008 to 1.11488, saving model to saved_models/weights.myinceptionmodel.hdf5\n",
      "6680/6680 [==============================] - 2s - loss: 1.5195 - acc: 0.7344 - val_loss: 1.1149 - val_acc: 0.7749\n",
      "Epoch 3/50\n",
      "6510/6680 [============================>.] - ETA: 0s - loss: 0.9018 - acc: 0.8183Epoch 00002: val_loss improved from 1.11488 to 0.81355, saving model to saved_models/weights.myinceptionmodel.hdf5\n",
      "6680/6680 [==============================] - 2s - loss: 0.8973 - acc: 0.8195 - val_loss: 0.8136 - val_acc: 0.8120\n",
      "Epoch 4/50\n",
      "6510/6680 [============================>.] - ETA: 0s - loss: 0.6752 - acc: 0.8518Epoch 00003: val_loss improved from 0.81355 to 0.68460, saving model to saved_models/weights.myinceptionmodel.hdf5\n",
      "6680/6680 [==============================] - 2s - loss: 0.6731 - acc: 0.8519 - val_loss: 0.6846 - val_acc: 0.8275\n",
      "Epoch 5/50\n",
      "6678/6680 [============================>.] - ETA: 0s - loss: 0.5550 - acc: 0.8690Epoch 00004: val_loss improved from 0.68460 to 0.61081, saving model to saved_models/weights.myinceptionmodel.hdf5\n",
      "6680/6680 [==============================] - 2s - loss: 0.5549 - acc: 0.8690 - val_loss: 0.6108 - val_acc: 0.8467\n",
      "Epoch 6/50\n",
      "6594/6680 [============================>.] - ETA: 0s - loss: 0.4822 - acc: 0.8838Epoch 00005: val_loss improved from 0.61081 to 0.57560, saving model to saved_models/weights.myinceptionmodel.hdf5\n",
      "6680/6680 [==============================] - 2s - loss: 0.4812 - acc: 0.8843 - val_loss: 0.5756 - val_acc: 0.8467\n",
      "Epoch 7/50\n",
      "6594/6680 [============================>.] - ETA: 0s - loss: 0.4238 - acc: 0.8911Epoch 00006: val_loss improved from 0.57560 to 0.53941, saving model to saved_models/weights.myinceptionmodel.hdf5\n",
      "6680/6680 [==============================] - 2s - loss: 0.4251 - acc: 0.8907 - val_loss: 0.5394 - val_acc: 0.8623\n",
      "Epoch 8/50\n",
      "6594/6680 [============================>.] - ETA: 0s - loss: 0.3840 - acc: 0.9019Epoch 00007: val_loss improved from 0.53941 to 0.52157, saving model to saved_models/weights.myinceptionmodel.hdf5\n",
      "6680/6680 [==============================] - 2s - loss: 0.3841 - acc: 0.9018 - val_loss: 0.5216 - val_acc: 0.8647\n",
      "Epoch 9/50\n",
      "6636/6680 [============================>.] - ETA: 0s - loss: 0.3502 - acc: 0.9121Epoch 00008: val_loss improved from 0.52157 to 0.51067, saving model to saved_models/weights.myinceptionmodel.hdf5\n",
      "6680/6680 [==============================] - 2s - loss: 0.3496 - acc: 0.9123 - val_loss: 0.5107 - val_acc: 0.8647\n",
      "Epoch 10/50\n",
      "6594/6680 [============================>.] - ETA: 0s - loss: 0.3218 - acc: 0.9178Epoch 00009: val_loss improved from 0.51067 to 0.49804, saving model to saved_models/weights.myinceptionmodel.hdf5\n",
      "6680/6680 [==============================] - 2s - loss: 0.3225 - acc: 0.9171 - val_loss: 0.4980 - val_acc: 0.8623\n",
      "Epoch 11/50\n",
      "6510/6680 [============================>.] - ETA: 0s - loss: 0.2963 - acc: 0.9298Epoch 00010: val_loss improved from 0.49804 to 0.49397, saving model to saved_models/weights.myinceptionmodel.hdf5\n",
      "6680/6680 [==============================] - 2s - loss: 0.2954 - acc: 0.9301 - val_loss: 0.4940 - val_acc: 0.8683\n",
      "Epoch 12/50\n",
      "6552/6680 [============================>.] - ETA: 0s - loss: 0.2737 - acc: 0.9328Epoch 00011: val_loss improved from 0.49397 to 0.48324, saving model to saved_models/weights.myinceptionmodel.hdf5\n",
      "6680/6680 [==============================] - 2s - loss: 0.2738 - acc: 0.9326 - val_loss: 0.4832 - val_acc: 0.8647\n",
      "Epoch 13/50\n",
      "6510/6680 [============================>.] - ETA: 0s - loss: 0.2534 - acc: 0.9382Epoch 00012: val_loss improved from 0.48324 to 0.48041, saving model to saved_models/weights.myinceptionmodel.hdf5\n",
      "6680/6680 [==============================] - 2s - loss: 0.2536 - acc: 0.9383 - val_loss: 0.4804 - val_acc: 0.8647\n",
      "Epoch 14/50\n",
      "6678/6680 [============================>.] - ETA: 0s - loss: 0.2358 - acc: 0.9449Epoch 00013: val_loss improved from 0.48041 to 0.47343, saving model to saved_models/weights.myinceptionmodel.hdf5\n",
      "6680/6680 [==============================] - 2s - loss: 0.2361 - acc: 0.9448 - val_loss: 0.4734 - val_acc: 0.8719\n",
      "Epoch 15/50\n",
      "6552/6680 [============================>.] - ETA: 0s - loss: 0.2246 - acc: 0.9470Epoch 00014: val_loss improved from 0.47343 to 0.47072, saving model to saved_models/weights.myinceptionmodel.hdf5\n",
      "6680/6680 [==============================] - 2s - loss: 0.2235 - acc: 0.9475 - val_loss: 0.4707 - val_acc: 0.8695\n",
      "Epoch 16/50\n",
      "6552/6680 [============================>.] - ETA: 0s - loss: 0.2059 - acc: 0.9560Epoch 00015: val_loss did not improve\n",
      "6680/6680 [==============================] - 2s - loss: 0.2065 - acc: 0.9557 - val_loss: 0.4707 - val_acc: 0.8647\n",
      "Epoch 17/50\n",
      "6636/6680 [============================>.] - ETA: 0s - loss: 0.1947 - acc: 0.9590Epoch 00016: val_loss did not improve\n",
      "6680/6680 [==============================] - 2s - loss: 0.1948 - acc: 0.9590 - val_loss: 0.4709 - val_acc: 0.8695\n",
      "Epoch 18/50\n",
      "6510/6680 [============================>.] - ETA: 0s - loss: 0.1828 - acc: 0.9619Epoch 00017: val_loss improved from 0.47072 to 0.46665, saving model to saved_models/weights.myinceptionmodel.hdf5\n",
      "6680/6680 [==============================] - 2s - loss: 0.1820 - acc: 0.9624 - val_loss: 0.4667 - val_acc: 0.8659\n",
      "Epoch 19/50\n",
      "6552/6680 [============================>.] - ETA: 0s - loss: 0.1713 - acc: 0.9663Epoch 00018: val_loss improved from 0.46665 to 0.46183, saving model to saved_models/weights.myinceptionmodel.hdf5\n",
      "6680/6680 [==============================] - 2s - loss: 0.1711 - acc: 0.9665 - val_loss: 0.4618 - val_acc: 0.8695\n",
      "Epoch 20/50\n",
      "6552/6680 [============================>.] - ETA: 0s - loss: 0.1620 - acc: 0.9716Epoch 00019: val_loss did not improve\n",
      "6680/6680 [==============================] - 1s - loss: 0.1621 - acc: 0.9714 - val_loss: 0.4666 - val_acc: 0.8647\n",
      "Epoch 21/50\n",
      "6510/6680 [============================>.] - ETA: 0s - loss: 0.1515 - acc: 0.9739Epoch 00020: val_loss improved from 0.46183 to 0.45949, saving model to saved_models/weights.myinceptionmodel.hdf5\n",
      "6680/6680 [==============================] - 2s - loss: 0.1519 - acc: 0.9735 - val_loss: 0.4595 - val_acc: 0.8695\n",
      "Epoch 22/50\n",
      "6552/6680 [============================>.] - ETA: 0s - loss: 0.1434 - acc: 0.9765Epoch 00021: val_loss did not improve\n",
      "6680/6680 [==============================] - 2s - loss: 0.1435 - acc: 0.9763 - val_loss: 0.4640 - val_acc: 0.8671\n",
      "Epoch 23/50\n",
      "6678/6680 [============================>.] - ETA: 0s - loss: 0.1354 - acc: 0.9772Epoch 00022: val_loss did not improve\n",
      "6680/6680 [==============================] - 2s - loss: 0.1354 - acc: 0.9772 - val_loss: 0.4652 - val_acc: 0.8731\n",
      "Epoch 24/50\n",
      "6678/6680 [============================>.] - ETA: 0s - loss: 0.1275 - acc: 0.9798Epoch 00023: val_loss did not improve\n",
      "6680/6680 [==============================] - 2s - loss: 0.1275 - acc: 0.9798 - val_loss: 0.4638 - val_acc: 0.8659\n",
      "Epoch 25/50\n",
      "6510/6680 [============================>.] - ETA: 0s - loss: 0.1205 - acc: 0.9819Epoch 00024: val_loss did not improve\n",
      "6680/6680 [==============================] - 2s - loss: 0.1208 - acc: 0.9817 - val_loss: 0.4654 - val_acc: 0.8647\n",
      "Epoch 26/50\n",
      "6678/6680 [============================>.] - ETA: 0s - loss: 0.1143 - acc: 0.9850Epoch 00025: val_loss did not improve\n",
      "6680/6680 [==============================] - 1s - loss: 0.1144 - acc: 0.9850 - val_loss: 0.4617 - val_acc: 0.8647\n",
      "Epoch 27/50\n",
      "6510/6680 [============================>.] - ETA: 0s - loss: 0.1089 - acc: 0.9865Epoch 00026: val_loss did not improve\n",
      "6680/6680 [==============================] - 1s - loss: 0.1091 - acc: 0.9864 - val_loss: 0.4689 - val_acc: 0.8623\n",
      "Epoch 28/50\n",
      "6678/6680 [============================>.] - ETA: 0s - loss: 0.1021 - acc: 0.9874Epoch 00027: val_loss did not improve\n"
     ]
    },
    {
     "name": "stdout",
     "output_type": "stream",
     "text": [
      "6680/6680 [==============================] - 2s - loss: 0.1021 - acc: 0.9874 - val_loss: 0.4619 - val_acc: 0.8599\n"
     ]
    },
    {
     "data": {
      "text/plain": [
       "<keras.callbacks.History at 0x7f59f0060f98>"
      ]
     },
     "execution_count": 22,
     "metadata": {},
     "output_type": "execute_result"
    }
   ],
   "source": [
    "### TODO: Train the model.\n",
    "from keras.callbacks import ModelCheckpoint\n",
    "from keras.callbacks import EarlyStopping\n",
    "\n",
    "earlystopper = EarlyStopping(monitor='val_loss', min_delta=0, patience=6, verbose=0, mode='auto')\n",
    "checkpointer = ModelCheckpoint(filepath='saved_models/weights.myinceptionmodel.hdf5',\n",
    "                               monitor='val_loss', verbose=1, save_best_only=True)\n",
    "\n",
    "my_cnn_model.fit(train_InceptionV3, train_targets,\n",
    "                 validation_data=(valid_InceptionV3, valid_targets),\n",
    "                 epochs=50,\n",
    "                 batch_size=42,\n",
    "                 callbacks = [earlystopper, checkpointer])"
   ]
  },
  {
   "cell_type": "markdown",
   "metadata": {},
   "source": [
    "### (IMPLEMENTATION) Load the Model with the Best Validation Loss"
   ]
  },
  {
   "cell_type": "code",
   "execution_count": 23,
   "metadata": {},
   "outputs": [],
   "source": [
    "### TODO: Load the model weights with the best validation loss.\n",
    "my_cnn_model.load_weights('saved_models/weights.myinceptionmodel.hdf5')"
   ]
  },
  {
   "cell_type": "markdown",
   "metadata": {},
   "source": [
    "### (IMPLEMENTATION) Test the Model\n",
    "\n",
    "Try out your model on the test dataset of dog images. Ensure that your test accuracy is greater than 60%."
   ]
  },
  {
   "cell_type": "code",
   "execution_count": 24,
   "metadata": {},
   "outputs": [
    {
     "name": "stdout",
     "output_type": "stream",
     "text": [
      "Test accuracy: 82.0574%\n"
     ]
    }
   ],
   "source": [
    "### TODO: Calculate classification accuracy on the test dataset.\n",
    "\n",
    "# get index of predicted dog breed for each image in test set\n",
    "dog_breed_predictions = [np.argmax(my_cnn_model.predict(np.expand_dims(tensor, axis=0))) for tensor in test_InceptionV3]\n",
    "\n",
    "# report test accuracy\n",
    "test_accuracy = 100*np.sum(np.array(dog_breed_predictions)==np.argmax(test_targets, axis=1))/len(dog_breed_predictions)\n",
    "print('Test accuracy: %.4f%%' % test_accuracy)"
   ]
  },
  {
   "cell_type": "markdown",
   "metadata": {},
   "source": [
    "### (IMPLEMENTATION) Predict Dog Breed with the Model\n",
    "\n",
    "Write a function that takes an image path as input and returns the dog breed (`Affenpinscher`, `Afghan_hound`, etc) that is predicted by your model.  \n",
    "\n",
    "Similar to the analogous function in Step 5, your function should have three steps:\n",
    "1. Extract the bottleneck features corresponding to the chosen CNN model.\n",
    "2. Supply the bottleneck features as input to the model to return the predicted vector.  Note that the argmax of this prediction vector gives the index of the predicted dog breed.\n",
    "3. Use the `dog_names` array defined in Step 0 of this notebook to return the corresponding breed.\n",
    "\n",
    "The functions to extract the bottleneck features can be found in `extract_bottleneck_features.py`, and they have been imported in an earlier code cell.  To obtain the bottleneck features corresponding to your chosen CNN architecture, you need to use the function\n",
    "\n",
    "    extract_{network}\n",
    "    \n",
    "where `{network}`, in the above filename, should be one of `VGG19`, `Resnet50`, `InceptionV3`, or `Xception`."
   ]
  },
  {
   "cell_type": "code",
   "execution_count": 28,
   "metadata": {},
   "outputs": [
    {
     "name": "stdout",
     "output_type": "stream",
     "text": [
      "dogImages/test/059.Doberman_pinscher/Doberman_pinscher_04156.jpg Doberman_pinscher\n"
     ]
    }
   ],
   "source": [
    "### TODO: Write a function that takes a path to an image as input\n",
    "### and returns the dog breed that is predicted by the model.\n",
    "def get_dog_breed(img_path):\n",
    "    # Get Inception's imagenet weights of img\n",
    "    bottleneck_features = extract_InceptionV3(path_to_tensor(img_path))\n",
    "    \n",
    "    # Give Inception's weights to my model to get prediction index\n",
    "    index = np.argmax(my_cnn_model.predict(bottleneck_features))\n",
    "\n",
    "    # Get dog breed from index\n",
    "    return dog_names[index]\n",
    "print(test_files[1], get_dog_breed(test_files[1]))"
   ]
  },
  {
   "cell_type": "markdown",
   "metadata": {},
   "source": [
    "---\n",
    "<a id='step6'></a>\n",
    "## Step 6: Write your Algorithm\n",
    "\n",
    "Write an algorithm that accepts a file path to an image and first determines whether the image contains a human, dog, or neither.  Then,\n",
    "- if a __dog__ is detected in the image, return the predicted breed.\n",
    "- if a __human__ is detected in the image, return the resembling dog breed.\n",
    "- if __neither__ is detected in the image, provide output that indicates an error.\n",
    "\n",
    "You are welcome to write your own functions for detecting humans and dogs in images, but feel free to use the `face_detector` and `dog_detector` functions developed above.  You are __required__ to use your CNN from Step 5 to predict dog breed.  \n",
    "\n",
    "Some sample output for our algorithm is provided below, but feel free to design your own user experience!\n",
    "\n",
    "![Sample Human Output](images/sample_human_output.png)\n",
    "\n",
    "\n",
    "### (IMPLEMENTATION) Write your Algorithm"
   ]
  },
  {
   "cell_type": "code",
   "execution_count": 33,
   "metadata": {},
   "outputs": [],
   "source": [
    "### TODO: Write your algorithm.\n",
    "### Feel free to use as many code cells as needed.\n",
    "def dog_and_human_checker(img_path):\n",
    "    if dog_detector(img_path):\n",
    "        print('hello, dog!')\n",
    "    elif face_detector(img_path):\n",
    "        print('hello, human!')\n",
    "    else:\n",
    "        print('error, the machine did not detect dog or human face')\n",
    "        return\n",
    "\n",
    "    # show image\n",
    "    img = cv2.imread(img_path)\n",
    "    cv_rgb = cv2.cvtColor(img, cv2.COLOR_BGR2RGB)\n",
    "    plt.imshow(cv_rgb)\n",
    "    plt.show()  \n",
    "\n",
    "    print('The dog breed most-resembled is ...')\n",
    "    print(get_dog_breed(img_path))"
   ]
  },
  {
   "cell_type": "markdown",
   "metadata": {},
   "source": [
    "---\n",
    "<a id='step7'></a>\n",
    "## Step 7: Test Your Algorithm\n",
    "\n",
    "In this section, you will take your new algorithm for a spin!  What kind of dog does the algorithm think that __you__ look like?  If you have a dog, does it predict your dog's breed accurately?  If you have a cat, does it mistakenly think that your cat is a dog?\n",
    "\n",
    "### (IMPLEMENTATION) Test Your Algorithm on Sample Images!\n",
    "\n",
    "Test your algorithm at least six images on your computer.  Feel free to use any images you like.  Use at least two human and two dog images.  \n",
    "\n",
    "__Question 6:__ Is the output better than you expected :) ?  Or worse :( ?  Provide at least three possible points of improvement for your algorithm.\n",
    "\n",
    "__Answer:__ "
   ]
  },
  {
   "cell_type": "code",
   "execution_count": 36,
   "metadata": {},
   "outputs": [
    {
     "name": "stdout",
     "output_type": "stream",
     "text": [
      "hello, dog!\n"
     ]
    },
    {
     "data": {
      "image/png": "[encoded data removed]",
      "text/plain": [
       "<matplotlib.figure.Figure at 0x7f597b91fd30>"
      ]
     },
     "metadata": {},
     "output_type": "display_data"
    },
    {
     "name": "stdout",
     "output_type": "stream",
     "text": [
      "The dog breed most-resembled is ...\n",
      "Pomeranian\n"
     ]
    }
   ],
   "source": [
    "## TODO: Execute your algorithm from Step 6 on\n",
    "## at least 6 images on your computer.\n",
    "## Feel free to use as many code cells as needed.\n",
    "dog_and_human_checker('appImages/stang.jpg')"
   ]
  },
  {
   "cell_type": "code",
   "execution_count": null,
   "metadata": {},
   "outputs": [],
   "source": []
  }
 ],
 "metadata": {
  "anaconda-cloud": {},
  "kernelspec": {
   "display_name": "Python 3",
   "language": "python",
   "name": "python3"
  },
  "language_info": {
   "codemirror_mode": {
    "name": "ipython",
    "version": 3
   },
   "file_extension": ".py",
   "mimetype": "text/x-python",
   "name": "python",
   "nbconvert_exporter": "python",
   "pygments_lexer": "ipython3",
   "version": "3.5.2"
  }
 },
 "nbformat": 4,
 "nbformat_minor": 1
}
